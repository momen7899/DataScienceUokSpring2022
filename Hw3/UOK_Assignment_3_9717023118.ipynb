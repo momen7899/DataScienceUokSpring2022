{
  "nbformat": 4,
  "nbformat_minor": 0,
  "metadata": {
    "colab": {
      "name": "UOK_Assignment_3_9717023118.ipynb",
      "provenance": [],
      "collapsed_sections": [
        "1OFGSV3rqcPX"
      ],
      "toc_visible": true
    },
    "kernelspec": {
      "name": "python3",
      "display_name": "Python 3"
    }
  },
  "cells": [
    {
      "cell_type": "markdown",
      "metadata": {
        "id": "8_wEtBmL1Hwk"
      },
      "source": [
        "# Assignment #03 - Implement a simple project\n",
        "\n",
        "\n",
        "\n",
        "Data Science / spring 1401, University of kordestan\n",
        "\n",
        "\n",
        "\n",
        "---\n",
        "\n"
      ]
    },
    {
      "cell_type": "markdown",
      "metadata": {
        "id": "J-_PRgRX1NDO"
      },
      "source": [
        "**Please pay attention to these notes:**\n",
        "<br><br>\n",
        "\n",
        "\n",
        "- **Assignment Due:** <b><font color='red'>1401/4/7</font></b> 23:59:00\n",
        "- The items you need to answer are highlighted in <font color=\"purple\">**bold purple**</font> and the coding parts you need to implement are denoted by:\n",
        "```\n",
        "########################################\n",
        "#     Put your implementation here     #\n",
        "########################################\n",
        "```\n",
        "- We always recommend co-operation and discussion in groups for assignments. However, **each student has to finish all the questions by him/herself**. If our matching system identifies any sort of copying, you'll be responsible for consequences.\n",
        "- You must run this notebook on Google Colab platform, it depends on Google Colab VM for some of the depencecies.\n",
        "- You can double click on collapsed code cells to expand them.\n",
        "- <b><font color='red'>When you are ready to submit, please follow the instructions at the end of this notebook.</font></b>\n",
        "\n",
        "\n",
        "<br>\n"
      ]
    },
    {
      "cell_type": "markdown",
      "metadata": {
        "id": "OTZtiOeg1vHP"
      },
      "source": [
        "\n",
        "\n",
        "---\n",
        "\n"
      ]
    },
    {
      "cell_type": "markdown",
      "metadata": {
        "id": "DVvWWoLK8lfO"
      },
      "source": [
        "# 3 . Sentiment Analysis"
      ]
    },
    {
      "cell_type": "markdown",
      "metadata": {
        "id": "tBTRPKjgCd7_"
      },
      "source": [
        "Now that you have worked with two type of data (tabular, image), let's step into a new genre, **Text**! From another point of view, you already encountered *clustering* as a major class of unsupervised learning. Now we will face a **Classification** problem, from the category of supervised learning problems. (Some other types of problems/tasks are listed in [section 5](https://www.deeplearningbook.org/contents/ml.html).1.1 of the deeplearningbook.)\n",
        "\n",
        "Here in the last assignment, the main task is to classify [user comments on Digikala products](https://www.digikala.com/opendata/) into three classes:\n",
        "<font color=\"green\">\n",
        "* Positive\n",
        "</font>\n",
        "* Neutral\n",
        "<font color=\"red\">\n",
        "* Negative\n",
        "</font>\n",
        "\n",
        "We will follow a step by step procedure together:\n",
        "\n",
        "\n",
        "1. <font color=\"green\"> Load, clean our (or more precisely *Digikala's*) datset with **pandas**\n",
        "</font>\n",
        "<font color=\"green\">\n",
        "2. Transform data, define and fit our model on the data using **scikit-learn**\n",
        "</font>\n",
        "<font color=\"green\">\n",
        "3. Evaluate our model based on quantitative measures and manual (qualitative) inspection\n",
        "</font>\n"
      ]
    },
    {
      "cell_type": "markdown",
      "metadata": {
        "id": "_hjTrDKVFMIT"
      },
      "source": [
        "Let's start by downloading the data..."
      ]
    },
    {
      "cell_type": "code",
      "metadata": {
        "id": "lD_USkwLM4n1",
        "outputId": "4a7c5639-3d92-4327-898f-6990c27ddbc4",
        "colab": {
          "base_uri": "https://localhost:8080/"
        }
      },
      "source": [
        "#@title Download the data!\n",
        "from IPython.display import clear_output\n",
        "\n",
        "!wget --no-check-certificate 'https://docs.google.com/uc?export=download&id=1lb7gyXkI4Cs4Pp038_iKrcnVg9yeQcou' -O digikala_comments.xlsx\n",
        "\n",
        "clear_output()\n",
        "print(\"Done\")"
      ],
      "execution_count": 1,
      "outputs": [
        {
          "output_type": "stream",
          "name": "stdout",
          "text": [
            "Done\n"
          ]
        }
      ]
    },
    {
      "cell_type": "code",
      "metadata": {
        "id": "rAsll2WmzCn4",
        "colab": {
          "base_uri": "https://localhost:8080/",
          "height": 433
        },
        "outputId": "4d6eaddd-e6a6-4427-defe-ab55553773f3"
      },
      "source": [
        "# @title Read xlsx data\n",
        "import pandas as pd\n",
        "df = pd.read_excel('/content/digikala_comments.xlsx')\n",
        "df.head(3)"
      ],
      "execution_count": 2,
      "outputs": [
        {
          "output_type": "execute_result",
          "data": {
            "text/plain": [
              "   product_id                                      product_title title_en  \\\n",
              "0        3692                        ماوس بی‌سیم لاجیتک مدل M325       IT   \n",
              "1       90213  شارژر همراه شیاومی مدل NDY-02-AN با ظرفیت 1000...       AC   \n",
              "2       59473              یدک پولیشر میکروفایبر مهسان مدل 20119       HW   \n",
              "\n",
              "   user_id  likes  dislikes verification_status        recommend  \\\n",
              "0   989472      0         0            verified               \\N   \n",
              "1  3862150      4         1            verified      recommended   \n",
              "2   626843      1         0            verified  not_recommended   \n",
              "\n",
              "                      title  \\\n",
              "0                       NaN   \n",
              "1              واقعاً عالیه   \n",
              "2  خیلی سخت حوله اش در میاد   \n",
              "\n",
              "                                             comment  \\\n",
              "0                  واقعا عالیه. من که ازش خیلی راضیم   \n",
              "1  سلام، قبل اینکه نظرم رو بگم میخواستم به یک موض...   \n",
              "2  گیره های فلزی خیلی سخت تا میشوند و لذا حوله را...   \n",
              "\n",
              "                                          advantages disadvantages  \n",
              "0                                                NaN           NaN  \n",
              "1  [\"عمر طولانی\\r\",\"افت بسیار کم میزان شارژ\\r\",\"ا...     [\"ندارد\"]  \n",
              "2                                                NaN           NaN  "
            ],
            "text/html": [
              "\n",
              "  <div id=\"df-18440b52-1d59-4820-aee5-7bf0c6cba5e9\">\n",
              "    <div class=\"colab-df-container\">\n",
              "      <div>\n",
              "<style scoped>\n",
              "    .dataframe tbody tr th:only-of-type {\n",
              "        vertical-align: middle;\n",
              "    }\n",
              "\n",
              "    .dataframe tbody tr th {\n",
              "        vertical-align: top;\n",
              "    }\n",
              "\n",
              "    .dataframe thead th {\n",
              "        text-align: right;\n",
              "    }\n",
              "</style>\n",
              "<table border=\"1\" class=\"dataframe\">\n",
              "  <thead>\n",
              "    <tr style=\"text-align: right;\">\n",
              "      <th></th>\n",
              "      <th>product_id</th>\n",
              "      <th>product_title</th>\n",
              "      <th>title_en</th>\n",
              "      <th>user_id</th>\n",
              "      <th>likes</th>\n",
              "      <th>dislikes</th>\n",
              "      <th>verification_status</th>\n",
              "      <th>recommend</th>\n",
              "      <th>title</th>\n",
              "      <th>comment</th>\n",
              "      <th>advantages</th>\n",
              "      <th>disadvantages</th>\n",
              "    </tr>\n",
              "  </thead>\n",
              "  <tbody>\n",
              "    <tr>\n",
              "      <th>0</th>\n",
              "      <td>3692</td>\n",
              "      <td>ماوس بی‌سیم لاجیتک مدل M325</td>\n",
              "      <td>IT</td>\n",
              "      <td>989472</td>\n",
              "      <td>0</td>\n",
              "      <td>0</td>\n",
              "      <td>verified</td>\n",
              "      <td>\\N</td>\n",
              "      <td>NaN</td>\n",
              "      <td>واقعا عالیه. من که ازش خیلی راضیم</td>\n",
              "      <td>NaN</td>\n",
              "      <td>NaN</td>\n",
              "    </tr>\n",
              "    <tr>\n",
              "      <th>1</th>\n",
              "      <td>90213</td>\n",
              "      <td>شارژر همراه شیاومی مدل NDY-02-AN با ظرفیت 1000...</td>\n",
              "      <td>AC</td>\n",
              "      <td>3862150</td>\n",
              "      <td>4</td>\n",
              "      <td>1</td>\n",
              "      <td>verified</td>\n",
              "      <td>recommended</td>\n",
              "      <td>واقعاً عالیه</td>\n",
              "      <td>سلام، قبل اینکه نظرم رو بگم میخواستم به یک موض...</td>\n",
              "      <td>[\"عمر طولانی\\r\",\"افت بسیار کم میزان شارژ\\r\",\"ا...</td>\n",
              "      <td>[\"ندارد\"]</td>\n",
              "    </tr>\n",
              "    <tr>\n",
              "      <th>2</th>\n",
              "      <td>59473</td>\n",
              "      <td>یدک پولیشر میکروفایبر مهسان مدل 20119</td>\n",
              "      <td>HW</td>\n",
              "      <td>626843</td>\n",
              "      <td>1</td>\n",
              "      <td>0</td>\n",
              "      <td>verified</td>\n",
              "      <td>not_recommended</td>\n",
              "      <td>خیلی سخت حوله اش در میاد</td>\n",
              "      <td>گیره های فلزی خیلی سخت تا میشوند و لذا حوله را...</td>\n",
              "      <td>NaN</td>\n",
              "      <td>NaN</td>\n",
              "    </tr>\n",
              "  </tbody>\n",
              "</table>\n",
              "</div>\n",
              "      <button class=\"colab-df-convert\" onclick=\"convertToInteractive('df-18440b52-1d59-4820-aee5-7bf0c6cba5e9')\"\n",
              "              title=\"Convert this dataframe to an interactive table.\"\n",
              "              style=\"display:none;\">\n",
              "        \n",
              "  <svg xmlns=\"http://www.w3.org/2000/svg\" height=\"24px\"viewBox=\"0 0 24 24\"\n",
              "       width=\"24px\">\n",
              "    <path d=\"M0 0h24v24H0V0z\" fill=\"none\"/>\n",
              "    <path d=\"M18.56 5.44l.94 2.06.94-2.06 2.06-.94-2.06-.94-.94-2.06-.94 2.06-2.06.94zm-11 1L8.5 8.5l.94-2.06 2.06-.94-2.06-.94L8.5 2.5l-.94 2.06-2.06.94zm10 10l.94 2.06.94-2.06 2.06-.94-2.06-.94-.94-2.06-.94 2.06-2.06.94z\"/><path d=\"M17.41 7.96l-1.37-1.37c-.4-.4-.92-.59-1.43-.59-.52 0-1.04.2-1.43.59L10.3 9.45l-7.72 7.72c-.78.78-.78 2.05 0 2.83L4 21.41c.39.39.9.59 1.41.59.51 0 1.02-.2 1.41-.59l7.78-7.78 2.81-2.81c.8-.78.8-2.07 0-2.86zM5.41 20L4 18.59l7.72-7.72 1.47 1.35L5.41 20z\"/>\n",
              "  </svg>\n",
              "      </button>\n",
              "      \n",
              "  <style>\n",
              "    .colab-df-container {\n",
              "      display:flex;\n",
              "      flex-wrap:wrap;\n",
              "      gap: 12px;\n",
              "    }\n",
              "\n",
              "    .colab-df-convert {\n",
              "      background-color: #E8F0FE;\n",
              "      border: none;\n",
              "      border-radius: 50%;\n",
              "      cursor: pointer;\n",
              "      display: none;\n",
              "      fill: #1967D2;\n",
              "      height: 32px;\n",
              "      padding: 0 0 0 0;\n",
              "      width: 32px;\n",
              "    }\n",
              "\n",
              "    .colab-df-convert:hover {\n",
              "      background-color: #E2EBFA;\n",
              "      box-shadow: 0px 1px 2px rgba(60, 64, 67, 0.3), 0px 1px 3px 1px rgba(60, 64, 67, 0.15);\n",
              "      fill: #174EA6;\n",
              "    }\n",
              "\n",
              "    [theme=dark] .colab-df-convert {\n",
              "      background-color: #3B4455;\n",
              "      fill: #D2E3FC;\n",
              "    }\n",
              "\n",
              "    [theme=dark] .colab-df-convert:hover {\n",
              "      background-color: #434B5C;\n",
              "      box-shadow: 0px 1px 3px 1px rgba(0, 0, 0, 0.15);\n",
              "      filter: drop-shadow(0px 1px 2px rgba(0, 0, 0, 0.3));\n",
              "      fill: #FFFFFF;\n",
              "    }\n",
              "  </style>\n",
              "\n",
              "      <script>\n",
              "        const buttonEl =\n",
              "          document.querySelector('#df-18440b52-1d59-4820-aee5-7bf0c6cba5e9 button.colab-df-convert');\n",
              "        buttonEl.style.display =\n",
              "          google.colab.kernel.accessAllowed ? 'block' : 'none';\n",
              "\n",
              "        async function convertToInteractive(key) {\n",
              "          const element = document.querySelector('#df-18440b52-1d59-4820-aee5-7bf0c6cba5e9');\n",
              "          const dataTable =\n",
              "            await google.colab.kernel.invokeFunction('convertToInteractive',\n",
              "                                                     [key], {});\n",
              "          if (!dataTable) return;\n",
              "\n",
              "          const docLinkHtml = 'Like what you see? Visit the ' +\n",
              "            '<a target=\"_blank\" href=https://colab.research.google.com/notebooks/data_table.ipynb>data table notebook</a>'\n",
              "            + ' to learn more about interactive tables.';\n",
              "          element.innerHTML = '';\n",
              "          dataTable['output_type'] = 'display_data';\n",
              "          await google.colab.output.renderOutput(dataTable, element);\n",
              "          const docLink = document.createElement('div');\n",
              "          docLink.innerHTML = docLinkHtml;\n",
              "          element.appendChild(docLink);\n",
              "        }\n",
              "      </script>\n",
              "    </div>\n",
              "  </div>\n",
              "  "
            ]
          },
          "metadata": {},
          "execution_count": 2
        }
      ]
    },
    {
      "cell_type": "markdown",
      "metadata": {
        "id": "JfKA4lFZGeol"
      },
      "source": [
        "There are many columns in the table, but we need only two of them. The easier one is the `comment` column as the textual input to our problem. what about the other (the output / answer / label / target...)?\n",
        "\n",
        "As the data does not contain the score submitted by users, we use another column that shows polarity of the user opinion about the product. It's the `recommend` column. When the user recommends others to buy the product, he/she surely thinks positive about that product and vice-versa. right? <font color=\"purple\">**Have any problem with this? Explain it.**</font>\n"
      ]
    },
    {
      "cell_type": "markdown",
      "metadata": {
        "id": "DeA4by5Eo2Xg"
      },
      "source": [
        "\n",
        "<font color=\"purple\">  --- **Put your answer here!** ---</font>\n",
        "</br>"
      ]
    },
    {
      "cell_type": "markdown",
      "metadata": {
        "id": "6FyEH4cdpWhS"
      },
      "source": [
        "\n",
        "Maybe you're right, but we have no way out of this! :)\n",
        "If we dont take it hard about the label, we are doing [Sentiment Analysis](https://en.wikipedia.org/wiki/Sentiment_analysis) on the user comments..."
      ]
    },
    {
      "cell_type": "markdown",
      "metadata": {
        "id": "Xb7c2PSeKyse"
      },
      "source": [
        "## Clean dataset"
      ]
    },
    {
      "cell_type": "markdown",
      "metadata": {
        "id": "8q5BFrJEK5Zs"
      },
      "source": [
        "Our label column is one of these values for each comment:"
      ]
    },
    {
      "cell_type": "code",
      "metadata": {
        "id": "r8kJLJQILgPu",
        "colab": {
          "base_uri": "https://localhost:8080/"
        },
        "outputId": "39c371fe-0b48-432f-df5b-0b3538c1b845"
      },
      "source": [
        "df.recommend.unique()"
      ],
      "execution_count": 3,
      "outputs": [
        {
          "output_type": "execute_result",
          "data": {
            "text/plain": [
              "array(['\\\\N', 'recommended', 'not_recommended', 'no_idea'], dtype=object)"
            ]
          },
          "metadata": {},
          "execution_count": 3
        }
      ]
    },
    {
      "cell_type": "markdown",
      "metadata": {
        "id": "9Zjdt2IBLu2l"
      },
      "source": [
        "<font color=\"purple\">**Add a new column named `label` to the DataFrame based one the `recommend` column. assign `1`, `0`, `-1` values to `recommended`, `no_idea`, `not_recommended`, respectively.**</font>\n"
      ]
    },
    {
      "cell_type": "code",
      "metadata": {
        "id": "5cmY4U2PzCoR",
        "colab": {
          "base_uri": "https://localhost:8080/",
          "height": 433
        },
        "outputId": "2027292f-5900-486c-f69e-a295fc4eccbe"
      },
      "source": [
        "#@title Your part #1\n",
        "import numpy as np\n",
        "\n",
        "label = []\n",
        "for row in df['recommend']:\n",
        "        if row == 'recommended' :    label.append('1')\n",
        "        elif row == 'no_idea':   label.append('0')\n",
        "        elif row == 'not_recommended' :  label.append('-1')\n",
        "        else: label.append(np.nan)\n",
        "\n",
        "df['label'] = label\n",
        "\n",
        "df.head(3)"
      ],
      "execution_count": 4,
      "outputs": [
        {
          "output_type": "execute_result",
          "data": {
            "text/plain": [
              "   product_id                                      product_title title_en  \\\n",
              "0        3692                        ماوس بی‌سیم لاجیتک مدل M325       IT   \n",
              "1       90213  شارژر همراه شیاومی مدل NDY-02-AN با ظرفیت 1000...       AC   \n",
              "2       59473              یدک پولیشر میکروفایبر مهسان مدل 20119       HW   \n",
              "\n",
              "   user_id  likes  dislikes verification_status        recommend  \\\n",
              "0   989472      0         0            verified               \\N   \n",
              "1  3862150      4         1            verified      recommended   \n",
              "2   626843      1         0            verified  not_recommended   \n",
              "\n",
              "                      title  \\\n",
              "0                       NaN   \n",
              "1              واقعاً عالیه   \n",
              "2  خیلی سخت حوله اش در میاد   \n",
              "\n",
              "                                             comment  \\\n",
              "0                  واقعا عالیه. من که ازش خیلی راضیم   \n",
              "1  سلام، قبل اینکه نظرم رو بگم میخواستم به یک موض...   \n",
              "2  گیره های فلزی خیلی سخت تا میشوند و لذا حوله را...   \n",
              "\n",
              "                                          advantages disadvantages label  \n",
              "0                                                NaN           NaN   NaN  \n",
              "1  [\"عمر طولانی\\r\",\"افت بسیار کم میزان شارژ\\r\",\"ا...     [\"ندارد\"]     1  \n",
              "2                                                NaN           NaN    -1  "
            ],
            "text/html": [
              "\n",
              "  <div id=\"df-e09682f8-c405-4c55-a9d3-f5b3e790dcc8\">\n",
              "    <div class=\"colab-df-container\">\n",
              "      <div>\n",
              "<style scoped>\n",
              "    .dataframe tbody tr th:only-of-type {\n",
              "        vertical-align: middle;\n",
              "    }\n",
              "\n",
              "    .dataframe tbody tr th {\n",
              "        vertical-align: top;\n",
              "    }\n",
              "\n",
              "    .dataframe thead th {\n",
              "        text-align: right;\n",
              "    }\n",
              "</style>\n",
              "<table border=\"1\" class=\"dataframe\">\n",
              "  <thead>\n",
              "    <tr style=\"text-align: right;\">\n",
              "      <th></th>\n",
              "      <th>product_id</th>\n",
              "      <th>product_title</th>\n",
              "      <th>title_en</th>\n",
              "      <th>user_id</th>\n",
              "      <th>likes</th>\n",
              "      <th>dislikes</th>\n",
              "      <th>verification_status</th>\n",
              "      <th>recommend</th>\n",
              "      <th>title</th>\n",
              "      <th>comment</th>\n",
              "      <th>advantages</th>\n",
              "      <th>disadvantages</th>\n",
              "      <th>label</th>\n",
              "    </tr>\n",
              "  </thead>\n",
              "  <tbody>\n",
              "    <tr>\n",
              "      <th>0</th>\n",
              "      <td>3692</td>\n",
              "      <td>ماوس بی‌سیم لاجیتک مدل M325</td>\n",
              "      <td>IT</td>\n",
              "      <td>989472</td>\n",
              "      <td>0</td>\n",
              "      <td>0</td>\n",
              "      <td>verified</td>\n",
              "      <td>\\N</td>\n",
              "      <td>NaN</td>\n",
              "      <td>واقعا عالیه. من که ازش خیلی راضیم</td>\n",
              "      <td>NaN</td>\n",
              "      <td>NaN</td>\n",
              "      <td>NaN</td>\n",
              "    </tr>\n",
              "    <tr>\n",
              "      <th>1</th>\n",
              "      <td>90213</td>\n",
              "      <td>شارژر همراه شیاومی مدل NDY-02-AN با ظرفیت 1000...</td>\n",
              "      <td>AC</td>\n",
              "      <td>3862150</td>\n",
              "      <td>4</td>\n",
              "      <td>1</td>\n",
              "      <td>verified</td>\n",
              "      <td>recommended</td>\n",
              "      <td>واقعاً عالیه</td>\n",
              "      <td>سلام، قبل اینکه نظرم رو بگم میخواستم به یک موض...</td>\n",
              "      <td>[\"عمر طولانی\\r\",\"افت بسیار کم میزان شارژ\\r\",\"ا...</td>\n",
              "      <td>[\"ندارد\"]</td>\n",
              "      <td>1</td>\n",
              "    </tr>\n",
              "    <tr>\n",
              "      <th>2</th>\n",
              "      <td>59473</td>\n",
              "      <td>یدک پولیشر میکروفایبر مهسان مدل 20119</td>\n",
              "      <td>HW</td>\n",
              "      <td>626843</td>\n",
              "      <td>1</td>\n",
              "      <td>0</td>\n",
              "      <td>verified</td>\n",
              "      <td>not_recommended</td>\n",
              "      <td>خیلی سخت حوله اش در میاد</td>\n",
              "      <td>گیره های فلزی خیلی سخت تا میشوند و لذا حوله را...</td>\n",
              "      <td>NaN</td>\n",
              "      <td>NaN</td>\n",
              "      <td>-1</td>\n",
              "    </tr>\n",
              "  </tbody>\n",
              "</table>\n",
              "</div>\n",
              "      <button class=\"colab-df-convert\" onclick=\"convertToInteractive('df-e09682f8-c405-4c55-a9d3-f5b3e790dcc8')\"\n",
              "              title=\"Convert this dataframe to an interactive table.\"\n",
              "              style=\"display:none;\">\n",
              "        \n",
              "  <svg xmlns=\"http://www.w3.org/2000/svg\" height=\"24px\"viewBox=\"0 0 24 24\"\n",
              "       width=\"24px\">\n",
              "    <path d=\"M0 0h24v24H0V0z\" fill=\"none\"/>\n",
              "    <path d=\"M18.56 5.44l.94 2.06.94-2.06 2.06-.94-2.06-.94-.94-2.06-.94 2.06-2.06.94zm-11 1L8.5 8.5l.94-2.06 2.06-.94-2.06-.94L8.5 2.5l-.94 2.06-2.06.94zm10 10l.94 2.06.94-2.06 2.06-.94-2.06-.94-.94-2.06-.94 2.06-2.06.94z\"/><path d=\"M17.41 7.96l-1.37-1.37c-.4-.4-.92-.59-1.43-.59-.52 0-1.04.2-1.43.59L10.3 9.45l-7.72 7.72c-.78.78-.78 2.05 0 2.83L4 21.41c.39.39.9.59 1.41.59.51 0 1.02-.2 1.41-.59l7.78-7.78 2.81-2.81c.8-.78.8-2.07 0-2.86zM5.41 20L4 18.59l7.72-7.72 1.47 1.35L5.41 20z\"/>\n",
              "  </svg>\n",
              "      </button>\n",
              "      \n",
              "  <style>\n",
              "    .colab-df-container {\n",
              "      display:flex;\n",
              "      flex-wrap:wrap;\n",
              "      gap: 12px;\n",
              "    }\n",
              "\n",
              "    .colab-df-convert {\n",
              "      background-color: #E8F0FE;\n",
              "      border: none;\n",
              "      border-radius: 50%;\n",
              "      cursor: pointer;\n",
              "      display: none;\n",
              "      fill: #1967D2;\n",
              "      height: 32px;\n",
              "      padding: 0 0 0 0;\n",
              "      width: 32px;\n",
              "    }\n",
              "\n",
              "    .colab-df-convert:hover {\n",
              "      background-color: #E2EBFA;\n",
              "      box-shadow: 0px 1px 2px rgba(60, 64, 67, 0.3), 0px 1px 3px 1px rgba(60, 64, 67, 0.15);\n",
              "      fill: #174EA6;\n",
              "    }\n",
              "\n",
              "    [theme=dark] .colab-df-convert {\n",
              "      background-color: #3B4455;\n",
              "      fill: #D2E3FC;\n",
              "    }\n",
              "\n",
              "    [theme=dark] .colab-df-convert:hover {\n",
              "      background-color: #434B5C;\n",
              "      box-shadow: 0px 1px 3px 1px rgba(0, 0, 0, 0.15);\n",
              "      filter: drop-shadow(0px 1px 2px rgba(0, 0, 0, 0.3));\n",
              "      fill: #FFFFFF;\n",
              "    }\n",
              "  </style>\n",
              "\n",
              "      <script>\n",
              "        const buttonEl =\n",
              "          document.querySelector('#df-e09682f8-c405-4c55-a9d3-f5b3e790dcc8 button.colab-df-convert');\n",
              "        buttonEl.style.display =\n",
              "          google.colab.kernel.accessAllowed ? 'block' : 'none';\n",
              "\n",
              "        async function convertToInteractive(key) {\n",
              "          const element = document.querySelector('#df-e09682f8-c405-4c55-a9d3-f5b3e790dcc8');\n",
              "          const dataTable =\n",
              "            await google.colab.kernel.invokeFunction('convertToInteractive',\n",
              "                                                     [key], {});\n",
              "          if (!dataTable) return;\n",
              "\n",
              "          const docLinkHtml = 'Like what you see? Visit the ' +\n",
              "            '<a target=\"_blank\" href=https://colab.research.google.com/notebooks/data_table.ipynb>data table notebook</a>'\n",
              "            + ' to learn more about interactive tables.';\n",
              "          element.innerHTML = '';\n",
              "          dataTable['output_type'] = 'display_data';\n",
              "          await google.colab.output.renderOutput(dataTable, element);\n",
              "          const docLink = document.createElement('div');\n",
              "          docLink.innerHTML = docLinkHtml;\n",
              "          element.appendChild(docLink);\n",
              "        }\n",
              "      </script>\n",
              "    </div>\n",
              "  </div>\n",
              "  "
            ]
          },
          "metadata": {},
          "execution_count": 4
        }
      ]
    },
    {
      "cell_type": "markdown",
      "metadata": {
        "id": "ZyiWtFBYOHbN"
      },
      "source": [
        "<font color=\"purple\">**Drop rows with missing values of `recommend` (any value other than `recommended`, `no_idea`, `not_recommended`).**</font>"
      ]
    },
    {
      "cell_type": "code",
      "metadata": {
        "id": "kCOKzhrXLSSX",
        "colab": {
          "base_uri": "https://localhost:8080/"
        },
        "outputId": "3c6cb789-dd9f-4985-8b53-f249c5969591"
      },
      "source": [
        "#@title Your part #2\n",
        "df = df.dropna(subset=['label'])\n",
        "\n",
        "len(df)"
      ],
      "execution_count": 5,
      "outputs": [
        {
          "output_type": "execute_result",
          "data": {
            "text/plain": [
              "63618"
            ]
          },
          "metadata": {},
          "execution_count": 5
        }
      ]
    },
    {
      "cell_type": "markdown",
      "metadata": {
        "id": "rKPGVAQwPaXc"
      },
      "source": [
        "<font color=\"purple\">**Drop all useless columns, including the old `recommend` column.**</font> Dont doubt if it seems too easy! :)"
      ]
    },
    {
      "cell_type": "code",
      "metadata": {
        "id": "JApHI1_zPkPR",
        "colab": {
          "base_uri": "https://localhost:8080/",
          "height": 363
        },
        "outputId": "4bc63a97-c396-4f2c-af8d-2f2a8fa6ad78"
      },
      "source": [
        "#@title Your part #3\n",
        "\n",
        "df = df.drop([\"product_id\",\"product_title\",\"title_en\" , \"user_id\" , \"likes\" ,\"dislikes\",\n",
        "               \"verification_status\",\"recommend\", \"title\",\"advantages\", \"disadvantages\"],axis= 1)\n",
        "\n",
        "df.head(10)"
      ],
      "execution_count": 6,
      "outputs": [
        {
          "output_type": "execute_result",
          "data": {
            "text/plain": [
              "                                              comment label\n",
              "1   سلام، قبل اینکه نظرم رو بگم میخواستم به یک موض...     1\n",
              "2   گیره های فلزی خیلی سخت تا میشوند و لذا حوله را...    -1\n",
              "3   همه چیز در رابطه با ظاهر این گوشی بسیار خوب اس...     0\n",
              "4   اگر ظرفیتش براتون کافیه حتما بخرید._x000D_\\nیه...     0\n",
              "5   سلام دوستان،،_x000D_\\nمنم مثه بعضی از دوستان ق...     1\n",
              "6   من چند سالی هست که این اسپیکرو خریدم و واقعا ح...     1\n",
              "9                                        خوب بودممنون     0\n",
              "10  نزدیک به دو ساله که این هارد رو خریدم. استفاده...     1\n",
              "12  افا از وقتی من اینو واسه پسرم خریدم همه بچه ها...     1\n",
              "13  من این پاور بانک رو حدود یک سال پیش از دیجی کا...     1"
            ],
            "text/html": [
              "\n",
              "  <div id=\"df-0183ccbc-0f35-4392-8168-5449329ffce1\">\n",
              "    <div class=\"colab-df-container\">\n",
              "      <div>\n",
              "<style scoped>\n",
              "    .dataframe tbody tr th:only-of-type {\n",
              "        vertical-align: middle;\n",
              "    }\n",
              "\n",
              "    .dataframe tbody tr th {\n",
              "        vertical-align: top;\n",
              "    }\n",
              "\n",
              "    .dataframe thead th {\n",
              "        text-align: right;\n",
              "    }\n",
              "</style>\n",
              "<table border=\"1\" class=\"dataframe\">\n",
              "  <thead>\n",
              "    <tr style=\"text-align: right;\">\n",
              "      <th></th>\n",
              "      <th>comment</th>\n",
              "      <th>label</th>\n",
              "    </tr>\n",
              "  </thead>\n",
              "  <tbody>\n",
              "    <tr>\n",
              "      <th>1</th>\n",
              "      <td>سلام، قبل اینکه نظرم رو بگم میخواستم به یک موض...</td>\n",
              "      <td>1</td>\n",
              "    </tr>\n",
              "    <tr>\n",
              "      <th>2</th>\n",
              "      <td>گیره های فلزی خیلی سخت تا میشوند و لذا حوله را...</td>\n",
              "      <td>-1</td>\n",
              "    </tr>\n",
              "    <tr>\n",
              "      <th>3</th>\n",
              "      <td>همه چیز در رابطه با ظاهر این گوشی بسیار خوب اس...</td>\n",
              "      <td>0</td>\n",
              "    </tr>\n",
              "    <tr>\n",
              "      <th>4</th>\n",
              "      <td>اگر ظرفیتش براتون کافیه حتما بخرید._x000D_\\nیه...</td>\n",
              "      <td>0</td>\n",
              "    </tr>\n",
              "    <tr>\n",
              "      <th>5</th>\n",
              "      <td>سلام دوستان،،_x000D_\\nمنم مثه بعضی از دوستان ق...</td>\n",
              "      <td>1</td>\n",
              "    </tr>\n",
              "    <tr>\n",
              "      <th>6</th>\n",
              "      <td>من چند سالی هست که این اسپیکرو خریدم و واقعا ح...</td>\n",
              "      <td>1</td>\n",
              "    </tr>\n",
              "    <tr>\n",
              "      <th>9</th>\n",
              "      <td>خوب بودممنون</td>\n",
              "      <td>0</td>\n",
              "    </tr>\n",
              "    <tr>\n",
              "      <th>10</th>\n",
              "      <td>نزدیک به دو ساله که این هارد رو خریدم. استفاده...</td>\n",
              "      <td>1</td>\n",
              "    </tr>\n",
              "    <tr>\n",
              "      <th>12</th>\n",
              "      <td>افا از وقتی من اینو واسه پسرم خریدم همه بچه ها...</td>\n",
              "      <td>1</td>\n",
              "    </tr>\n",
              "    <tr>\n",
              "      <th>13</th>\n",
              "      <td>من این پاور بانک رو حدود یک سال پیش از دیجی کا...</td>\n",
              "      <td>1</td>\n",
              "    </tr>\n",
              "  </tbody>\n",
              "</table>\n",
              "</div>\n",
              "      <button class=\"colab-df-convert\" onclick=\"convertToInteractive('df-0183ccbc-0f35-4392-8168-5449329ffce1')\"\n",
              "              title=\"Convert this dataframe to an interactive table.\"\n",
              "              style=\"display:none;\">\n",
              "        \n",
              "  <svg xmlns=\"http://www.w3.org/2000/svg\" height=\"24px\"viewBox=\"0 0 24 24\"\n",
              "       width=\"24px\">\n",
              "    <path d=\"M0 0h24v24H0V0z\" fill=\"none\"/>\n",
              "    <path d=\"M18.56 5.44l.94 2.06.94-2.06 2.06-.94-2.06-.94-.94-2.06-.94 2.06-2.06.94zm-11 1L8.5 8.5l.94-2.06 2.06-.94-2.06-.94L8.5 2.5l-.94 2.06-2.06.94zm10 10l.94 2.06.94-2.06 2.06-.94-2.06-.94-.94-2.06-.94 2.06-2.06.94z\"/><path d=\"M17.41 7.96l-1.37-1.37c-.4-.4-.92-.59-1.43-.59-.52 0-1.04.2-1.43.59L10.3 9.45l-7.72 7.72c-.78.78-.78 2.05 0 2.83L4 21.41c.39.39.9.59 1.41.59.51 0 1.02-.2 1.41-.59l7.78-7.78 2.81-2.81c.8-.78.8-2.07 0-2.86zM5.41 20L4 18.59l7.72-7.72 1.47 1.35L5.41 20z\"/>\n",
              "  </svg>\n",
              "      </button>\n",
              "      \n",
              "  <style>\n",
              "    .colab-df-container {\n",
              "      display:flex;\n",
              "      flex-wrap:wrap;\n",
              "      gap: 12px;\n",
              "    }\n",
              "\n",
              "    .colab-df-convert {\n",
              "      background-color: #E8F0FE;\n",
              "      border: none;\n",
              "      border-radius: 50%;\n",
              "      cursor: pointer;\n",
              "      display: none;\n",
              "      fill: #1967D2;\n",
              "      height: 32px;\n",
              "      padding: 0 0 0 0;\n",
              "      width: 32px;\n",
              "    }\n",
              "\n",
              "    .colab-df-convert:hover {\n",
              "      background-color: #E2EBFA;\n",
              "      box-shadow: 0px 1px 2px rgba(60, 64, 67, 0.3), 0px 1px 3px 1px rgba(60, 64, 67, 0.15);\n",
              "      fill: #174EA6;\n",
              "    }\n",
              "\n",
              "    [theme=dark] .colab-df-convert {\n",
              "      background-color: #3B4455;\n",
              "      fill: #D2E3FC;\n",
              "    }\n",
              "\n",
              "    [theme=dark] .colab-df-convert:hover {\n",
              "      background-color: #434B5C;\n",
              "      box-shadow: 0px 1px 3px 1px rgba(0, 0, 0, 0.15);\n",
              "      filter: drop-shadow(0px 1px 2px rgba(0, 0, 0, 0.3));\n",
              "      fill: #FFFFFF;\n",
              "    }\n",
              "  </style>\n",
              "\n",
              "      <script>\n",
              "        const buttonEl =\n",
              "          document.querySelector('#df-0183ccbc-0f35-4392-8168-5449329ffce1 button.colab-df-convert');\n",
              "        buttonEl.style.display =\n",
              "          google.colab.kernel.accessAllowed ? 'block' : 'none';\n",
              "\n",
              "        async function convertToInteractive(key) {\n",
              "          const element = document.querySelector('#df-0183ccbc-0f35-4392-8168-5449329ffce1');\n",
              "          const dataTable =\n",
              "            await google.colab.kernel.invokeFunction('convertToInteractive',\n",
              "                                                     [key], {});\n",
              "          if (!dataTable) return;\n",
              "\n",
              "          const docLinkHtml = 'Like what you see? Visit the ' +\n",
              "            '<a target=\"_blank\" href=https://colab.research.google.com/notebooks/data_table.ipynb>data table notebook</a>'\n",
              "            + ' to learn more about interactive tables.';\n",
              "          element.innerHTML = '';\n",
              "          dataTable['output_type'] = 'display_data';\n",
              "          await google.colab.output.renderOutput(dataTable, element);\n",
              "          const docLink = document.createElement('div');\n",
              "          docLink.innerHTML = docLinkHtml;\n",
              "          element.appendChild(docLink);\n",
              "        }\n",
              "      </script>\n",
              "    </div>\n",
              "  </div>\n",
              "  "
            ]
          },
          "metadata": {},
          "execution_count": 6
        }
      ]
    },
    {
      "cell_type": "markdown",
      "metadata": {
        "id": "awSS_AK1ToqD"
      },
      "source": [
        "Now let's check the `comment` column. How about its character lenght?\n",
        "\n",
        "**First Change `df` in the below cell to your current version of DataFrame!**"
      ]
    },
    {
      "cell_type": "code",
      "metadata": {
        "id": "rn_E2EsFR3Tl",
        "colab": {
          "base_uri": "https://localhost:8080/",
          "height": 252
        },
        "outputId": "44fc232c-c163-41ef-bd82-4d5bba810975"
      },
      "source": [
        "# @title Frequency of comments by char length\n",
        "hist = df.comment.str.len().plot.hist(bins=500, figsize=(20, 4))"
      ],
      "execution_count": 7,
      "outputs": [
        {
          "output_type": "display_data",
          "data": {
            "text/plain": [
              "<Figure size 1440x288 with 1 Axes>"
            ],
            "image/png": "[encoded data removed]"
          },
          "metadata": {
            "needs_background": "light"
          }
        }
      ]
    },
    {
      "cell_type": "markdown",
      "metadata": {
        "id": "MRskG6e_QmdD"
      },
      "source": [
        "As you see in the histogram, some comments are too short and some others are toooo long.\n",
        "\n",
        "<font color=\"purple\">**Choose values which you think are the best for min and max character length of comments and drop those short/long comments.**</font>"
      ]
    },
    {
      "cell_type": "code",
      "metadata": {
        "id": "9XF-DOT2Qft2",
        "colab": {
          "base_uri": "https://localhost:8080/",
          "height": 252
        },
        "outputId": "149e7e8a-60de-4228-f5c3-59f1fd17911b"
      },
      "source": [
        "MIN_CHAR_LEN = 100 #@param {type:\"integer\"}\n",
        "MAX_CHAR_LEN = 1000 #@param {type:\"integer\"}\n",
        "\n",
        "#############\n",
        "clean_df = df[(df.comment.str.len() > MIN_CHAR_LEN) & (df.comment.str.len() < MAX_CHAR_LEN)]\n",
        "#############\n",
        "\n",
        "hist = clean_df.comment.str.len().plot.hist(bins=(MAX_CHAR_LEN-MIN_CHAR_LEN)//5, figsize=(20, 4))"
      ],
      "execution_count": 8,
      "outputs": [
        {
          "output_type": "display_data",
          "data": {
            "text/plain": [
              "<Figure size 1440x288 with 1 Axes>"
            ],
            "image/png": "[encoded data removed]"
          },
          "metadata": {
            "needs_background": "light"
          }
        }
      ]
    },
    {
      "cell_type": "code",
      "source": [
        ""
      ],
      "metadata": {
        "id": "vrkSXOm4nE00"
      },
      "execution_count": 8,
      "outputs": []
    },
    {
      "cell_type": "markdown",
      "metadata": {
        "id": "sV-HM2T4VND2"
      },
      "source": [
        "It's time to check how many examples are remaining for each label..."
      ]
    },
    {
      "cell_type": "code",
      "metadata": {
        "id": "St3Of0TvVLo4",
        "colab": {
          "base_uri": "https://localhost:8080/"
        },
        "outputId": "26733d0f-5504-4ec3-ad98-40eda6e25428"
      },
      "source": [
        "print('label\\tcount')\n",
        "clean_df.label.value_counts()"
      ],
      "execution_count": 9,
      "outputs": [
        {
          "output_type": "stream",
          "name": "stdout",
          "text": [
            "label\tcount\n"
          ]
        },
        {
          "output_type": "execute_result",
          "data": {
            "text/plain": [
              "1     15929\n",
              "-1     7435\n",
              "0      5093\n",
              "Name: label, dtype: int64"
            ]
          },
          "metadata": {},
          "execution_count": 9
        }
      ]
    },
    {
      "cell_type": "markdown",
      "metadata": {
        "id": "xGoNsxJaWG_n"
      },
      "source": [
        "Seems more than half of the comments are labeled positive! This means we have an **unbalanced** dataset and this is bad news!\n",
        "\n",
        "We don't know how to deal with an unbalanced data (Is it realy a special case?), so <font color=\"purple\">**make the dataset balanced by taking maximum possible equal number of examples for each label.**</font>"
      ]
    },
    {
      "cell_type": "code",
      "metadata": {
        "id": "UPURur1MXfkX",
        "colab": {
          "base_uri": "https://localhost:8080/"
        },
        "outputId": "0449de2a-b2e8-4f91-f8af-96baef8db334"
      },
      "source": [
        "#@title Your part #4\n",
        "balanced_df = clean_df.groupby('label').apply(lambda x: x.sample(min(clean_df.label.value_counts())))\n",
        "\n",
        "print('label\\tcount')\n",
        "balanced_df.label.value_counts()"
      ],
      "execution_count": 10,
      "outputs": [
        {
          "output_type": "stream",
          "name": "stdout",
          "text": [
            "label\tcount\n"
          ]
        },
        {
          "output_type": "execute_result",
          "data": {
            "text/plain": [
              "-1    5093\n",
              "0     5093\n",
              "1     5093\n",
              "Name: label, dtype: int64"
            ]
          },
          "metadata": {},
          "execution_count": 10
        }
      ]
    },
    {
      "cell_type": "markdown",
      "metadata": {
        "id": "Lb5AvcZhQ-4_"
      },
      "source": [
        "...and say goodbye to pandas, by extracting values of comments, labels from the final DataFrame (next cell)."
      ]
    },
    {
      "cell_type": "code",
      "metadata": {
        "id": "fCjeCCi8zCpm",
        "colab": {
          "base_uri": "https://localhost:8080/"
        },
        "outputId": "1478af15-8836-42b0-c1c5-c9b287e140c0"
      },
      "source": [
        "texts = balanced_df.comment.astype(str).values\n",
        "labels = balanced_df.label.values\n",
        "\n",
        "list(zip(texts[:3], labels[:3]))"
      ],
      "execution_count": 11,
      "outputs": [
        {
          "output_type": "execute_result",
          "data": {
            "text/plain": [
              "[('اصلا پیشنهاد نمیکنم برای جهیزیه خرید کردم اندازه ها یک شکل نبودن و پشت همه اونها پر از لکه هایی بود که نمی رفت و فوق العاده نازک در کل افتضاح',\n",
              "  '-1'),\n",
              " ('سلام خدمت دوستان_x000D_\\nبنده ۲ تا از این محصول رو خریدم که همون بار اول موقع تغییر رمز خراب شدن._x000D_\\nکلا پیشنهاد نمیشه.',\n",
              "  '-1'),\n",
              " ('با دیدن سایتشون فکر کردم چقدر ایده شون باحاله و چقدر قشنگه بعدش که رسید دستم دیدم اصلا اون چیزی که فکر میکردم نیست._x000D_\\nبدتر اینکه اصلا سایز گوشیم نبود._x000D_\\nفکر میکردم دورتادور گوشیمو میگیره بعدش کهه زدم دیدم حتی پشت گوشیم رو هم کامل نمیپوشونه. در صورتی که خیلی حواسم بود که مدل گوشیرو درست زده باشم.',\n",
              "  '-1')]"
            ]
          },
          "metadata": {},
          "execution_count": 11
        }
      ]
    },
    {
      "cell_type": "markdown",
      "metadata": {
        "id": "sFP76-wvshHj"
      },
      "source": [
        "It is a common practice to split datasets into separate train and test sets. in order to evaluate the generalization power of our model, the model shouldn't have seen any examples from test set.\n",
        "\n",
        "We take 20% of the examples as test set and will not use them until evaluation part..."
      ]
    },
    {
      "cell_type": "code",
      "metadata": {
        "id": "hCIqMiuzzCpu",
        "colab": {
          "base_uri": "https://localhost:8080/"
        },
        "outputId": "af04c9ae-ff0f-4eb7-cf74-653b832cb21f"
      },
      "source": [
        "# @title Split dataset \n",
        "\n",
        "from sklearn.model_selection import train_test_split\n",
        "\n",
        "texts_train, texts_test, labels_train, labels_test = train_test_split(\n",
        "    texts, labels, test_size=0.20,\n",
        "    random_state=10, \n",
        "    stratify=labels      # what does it do?\n",
        "  )     \n",
        "print(len(texts))\n",
        "len(texts_train), len(texts_test)"
      ],
      "execution_count": 12,
      "outputs": [
        {
          "output_type": "stream",
          "name": "stdout",
          "text": [
            "15279\n"
          ]
        },
        {
          "output_type": "execute_result",
          "data": {
            "text/plain": [
              "(12223, 3056)"
            ]
          },
          "metadata": {},
          "execution_count": 12
        }
      ]
    },
    {
      "cell_type": "markdown",
      "metadata": {
        "id": "M5MwWstRzCp3"
      },
      "source": [
        "## Vectorize Text"
      ]
    },
    {
      "cell_type": "markdown",
      "metadata": {
        "id": "R0nVEXNUc3C4"
      },
      "source": [
        "We cannot give text as a string input to a machine learning model, because they can understand numerical vectors. How do you make a numerical vector out of a (problably long) string?!\n",
        "<font color=\"green\">\n",
        "* It already has a numerical (binary) representation in system memory? Riiight, But... \n",
        "* Split text it into smaller parts? good idea! into what? word or character or...? and then?</font>"
      ]
    },
    {
      "cell_type": "markdown",
      "metadata": {
        "id": "y7GUtVZHc02t"
      },
      "source": [
        "First we wil split our text into words, as they are the smallest meaningful units of text. This is called **tokenizing**. As the comments are in Persian, it is better to use a Persian tool to process our comment. We (install and) use [hazm](https://github.com/sobhe/hazm/) just to tokenize comments, but it has much more to do... Another library for processing Persian is [parsivar](https://github.com/ICTRC/Parsivar). \n",
        "\n",
        "Check those libraries if you are realy interested in NLP..."
      ]
    },
    {
      "cell_type": "code",
      "metadata": {
        "id": "zMflZwF7zCp-"
      },
      "source": [
        "# @title install hazm\n",
        "from IPython.display import clear_output\n",
        "!pip install hazm\n",
        "clear_output()"
      ],
      "execution_count": 13,
      "outputs": []
    },
    {
      "cell_type": "code",
      "metadata": {
        "id": "i-dUMPZolaQG",
        "colab": {
          "base_uri": "https://localhost:8080/"
        },
        "outputId": "b51cc8b1-f1a1-4f3d-85f1-bab87f47898e"
      },
      "source": [
        "# @title Tokenize a comment\n",
        "from hazm import word_tokenize\n",
        "\n",
        "word_tokenize(texts_train[10])"
      ],
      "execution_count": 14,
      "outputs": [
        {
          "output_type": "execute_result",
          "data": {
            "text/plain": [
              "['رایحه',\n",
              " 'خوبی',\n",
              " 'داره',\n",
              " 'ولی',\n",
              " 'پخش',\n",
              " 'بو',\n",
              " 'بسیار',\n",
              " 'ضعیفه',\n",
              " 'روی',\n",
              " 'پوست',\n",
              " 'ماندگاری',\n",
              " 'نداره',\n",
              " 'ولی',\n",
              " 'روی',\n",
              " 'لباس',\n",
              " 'چند',\n",
              " 'ساعتی',\n",
              " 'رایحه',\n",
              " 'ضعیفی',\n",
              " 'رو',\n",
              " 'میشه',\n",
              " 'ازش',\n",
              " 'استشمام',\n",
              " 'کرد',\n",
              " 'بر',\n",
              " 'عکس',\n",
              " 'بوی',\n",
              " 'ضعیف',\n",
              " 'ظاهر',\n",
              " 'بطری',\n",
              " 'زیبا',\n",
              " 'و',\n",
              " 'با',\n",
              " 'کیفیته',\n",
              " 'و',\n",
              " 'مثل',\n",
              " 'عطرهای',\n",
              " 'فیک',\n",
              " 'نیست',\n",
              " 'ولی',\n",
              " 'نمیدونم',\n",
              " 'چرا',\n",
              " 'بویی',\n",
              " 'به',\n",
              " 'این',\n",
              " 'ضعیفی',\n",
              " 'داره']"
            ]
          },
          "metadata": {},
          "execution_count": 14
        }
      ]
    },
    {
      "cell_type": "markdown",
      "metadata": {
        "id": "IwVQVI_8j2ld"
      },
      "source": [
        "After tokenization, we use one of the simplest methods of vectorizing/representing text, [Bag-of-Words](https://en.wikipedia.org/wiki/Bag-of-words_model).\n",
        "\n",
        "You can learn about **B**ag-**o**f-**W**ords [here](https://maelfabien.github.io/machinelearning/NLP_2). In a single sentence, it turns a text into a n-dimensional integer vector, where each item indicates number of ocurrances of a specific word in the text.\n",
        "\n",
        "<font color='purple'>**Is Bag-of-Words a good representation of text? Does it miss some useful information? Is it possible that BoW makes a positive comment look like negative, vice-versa? Explain by giving examples.**</font> "
      ]
    },
    {
      "cell_type": "markdown",
      "metadata": {
        "id": "cMB6tFZprtis"
      },
      "source": [
        "\n",
        "<font color=\"orange\">1- One of most important problems could be that it shows the frequency of some words that do not give us useful information, infact\n",
        "\n",
        "2- In another hand it decreases importancy of keywords by showing a less number of their frequency</font>\n",
        "</br>"
      ]
    },
    {
      "cell_type": "markdown",
      "metadata": {
        "id": "WKlJwqKUU09W"
      },
      "source": [
        "If you know how BoW works, it's time to get our hands dirty with scikit-learn. BoW is implemented as `CountVectorizer` there..."
      ]
    },
    {
      "cell_type": "code",
      "metadata": {
        "cellView": "form",
        "id": "fw1cJiXBzCqR"
      },
      "source": [
        "# @title Count Vectorizer (BoW)\n",
        "from sklearn.feature_extraction.text import CountVectorizer\n",
        "\n",
        "MIN_DF =  0.1# @param {\"type\": \"number\"}\n",
        "MAX_DF =  0.5# @param {\"type\": \"number\"}\n",
        "MAX_FEATURES =  7# @param {\"type\": \"integer\"}\n",
        "\n",
        "vectorizer = CountVectorizer(\n",
        "    tokenizer=word_tokenize,\n",
        "    min_df=MIN_DF,\n",
        "    max_df=MAX_DF,\n",
        "    max_features=MAX_FEATURES\n",
        ")\n",
        "\n",
        "?vectorizer   # shows documentation for the vectorizer object"
      ],
      "execution_count": 15,
      "outputs": []
    },
    {
      "cell_type": "code",
      "metadata": {
        "id": "x9R0an72yL0j",
        "colab": {
          "base_uri": "https://localhost:8080/"
        },
        "outputId": "380f5f3e-e0a1-4ab2-b3c8-c68f512c172b"
      },
      "source": [
        "X_train = vectorizer.fit_transform(texts_train)     # returns a sparse matrix (not dense)\n",
        "X_test = vectorizer.transform(texts_test)\n",
        "\n",
        "y_train = labels_train\n",
        "y_test = labels_test\n",
        "\n",
        "X_train.todense().shape, X_test.todense().shape     # convert sparse to dense matrix (normal 2d array)"
      ],
      "execution_count": 16,
      "outputs": [
        {
          "output_type": "execute_result",
          "data": {
            "text/plain": [
              "((12223, 7), (3056, 7))"
            ]
          },
          "metadata": {},
          "execution_count": 16
        }
      ]
    },
    {
      "cell_type": "markdown",
      "metadata": {
        "id": "1OFGSV3rqcPX"
      },
      "source": [
        "<font color='purple'>**Read scikit-learn docs on `CountVectorizer` and explain what is the meaning and benefit of setting these parameters:**\n",
        "* **min_df**\n",
        "* **max_df**\n",
        "</font>"
      ]
    },
    {
      "cell_type": "markdown",
      "metadata": {
        "id": "TV24E66csHVG"
      },
      "source": [
        "\n",
        "<font color=\"orange\">  1 - min_df is used for removing terms that appear too infrequently. For example: min_df = 0.01 means \"ignore terms that appear in less than 1% of the documents\n",
        "\n",
        "2-max_df is used for removing terms that appear too frequently, also known as corpus-specific stop words\" For example:\n",
        "max_df = 0.50 means \"ignore terms that appear in more than 50% of the documents\".</font>\n",
        "</br>"
      ]
    },
    {
      "cell_type": "markdown",
      "metadata": {
        "id": "Evdc7-Qjz9wJ"
      },
      "source": [
        "## Fit, Evaluate Classifier"
      ]
    },
    {
      "cell_type": "markdown",
      "metadata": {
        "id": "z3sfIXjPitkV"
      },
      "source": [
        "We chose **K-Nearest-Neighbor** model to fit on our data. As the name clearly suggests, KNN predicts the class of a new data point, by voting from k nearest neighbors of it (from training set). Neighbours are computed using a distance measure in our feature space.\n",
        "\n",
        "Here you can see how KNN works in a 2D input space:\n",
        "\n",
        "<img src=\"https://machinelearningknowledge.ai/wp-content/uploads/2018/08/KNN-Classification.gif\" width=\"640px\">\n",
        "\n",
        "This model and some other similar models are explained in [scikit-learn tutorial](https://scikit-learn.org/stable/modules/neighbors.html#nearest-neighbors-classification)."
      ]
    },
    {
      "cell_type": "markdown",
      "metadata": {
        "id": "lpqLm79mcNSs"
      },
      "source": [
        "Let's fit and evalute the model with a few lines of code..."
      ]
    },
    {
      "cell_type": "code",
      "metadata": {
        "id": "ttCejpQD0V5d",
        "colab": {
          "base_uri": "https://localhost:8080/"
        },
        "outputId": "f5a8f597-3888-48c6-e818-84860f6809fe"
      },
      "source": [
        "# @title Define, Fit KNN model\n",
        "%%time\n",
        "from sklearn.neighbors import KNeighborsClassifier\n",
        "\n",
        "K =  5# @param {\"type\": \"integer\"}\n",
        "\n",
        "classifier = KNeighborsClassifier(n_neighbors=K)\n",
        "classifier.fit(X_train, y_train)"
      ],
      "execution_count": 17,
      "outputs": [
        {
          "output_type": "stream",
          "name": "stdout",
          "text": [
            "CPU times: user 33.4 ms, sys: 3.08 ms, total: 36.4 ms\n",
            "Wall time: 109 ms\n"
          ]
        }
      ]
    },
    {
      "cell_type": "code",
      "metadata": {
        "id": "Tiz5kLow4H5I",
        "colab": {
          "base_uri": "https://localhost:8080/"
        },
        "outputId": "5033dab0-dfad-4168-a126-1592efb7bc21"
      },
      "source": [
        "%%time\n",
        "from sklearn.metrics import accuracy_score, precision_score, recall_score, f1_score\n",
        "\n",
        "pred_test = classifier.predict(X_test)\n",
        "print(accuracy_score(y_test, pred_test))"
      ],
      "execution_count": 18,
      "outputs": [
        {
          "output_type": "stream",
          "name": "stdout",
          "text": [
            "0.3367146596858639\n",
            "CPU times: user 1.26 s, sys: 309 ms, total: 1.57 s\n",
            "Wall time: 1.61 s\n"
          ]
        }
      ]
    },
    {
      "cell_type": "markdown",
      "metadata": {
        "id": "h5kL9XBfcsxu"
      },
      "source": [
        "As you can see, fitting KNN on data takes no time. But using it for prediction (on smaller count of data) takes considerable time!\n",
        "\n",
        "This is because KNN is a **lazy model** or a [lazy learning algorithm](https://en.wikipedia.org/wiki/Lazy_learning)! All of its computations are happening at inference/prediction time. Fitting the model just stores training data to use it later!"
      ]
    },
    {
      "cell_type": "markdown",
      "metadata": {
        "id": "xur6Kb_XeYmM"
      },
      "source": [
        "By changing parameter `K` in the cells above, you will see it has a significant effect on accuracy of the model. The question is *which k value, leads to the highest accuracy?* A deeper question would be *which evaluation metric (other than accuracy) best describes the quality of our model?* \n",
        "\n",
        "First, add three new items to your set of evaluation metrics:\n",
        "* [Precision](https://en.wikipedia.org/wiki/Precision_and_recall)\n",
        "* [Recall](https://en.wikipedia.org/wiki/Precision_and_recall)\n",
        "* [F1-Score](https://en.wikipedia.org/wiki/F-score)\n",
        "\n",
        "If you're not familiar with each one, read enough to understand it deeply. You will see them everywhere in machine learning literature. \n",
        "\n",
        "Now we are going to search for best value of k to maximize an evaluation metric. There are standard ways to do parameter search in scikit-learn, but let's do it our way, visualy. We want to plot the result of each metric for different values of k, to gain insight about how k affects model quality.\n",
        "\n",
        "<font color=\"purple\">**Implement the `plot_metrics_by_k` function which plots the score of the model on test set based on each metric, given a list of k values `ks`.**\n",
        "* **Plot each metric separately (4 plots in total).**\n",
        "* **Use logarithmic scale on horizontal axis (k).**\n",
        "* **Precision, Recall, F1-Score are calculated separately for each label (3 lines in each plot).**</font>\n",
        "\n",
        "Scikit-learn has implemented functions for each metric. You'll need to prepare labels and model predictions for them and do some dirty work with matplotlib! :)"
      ]
    },
    {
      "cell_type": "code",
      "metadata": {
        "id": "1UxmhaKa2FUj",
        "colab": {
          "base_uri": "https://localhost:8080/",
          "height": 627
        },
        "outputId": "d0c35df0-4be2-4e7e-d3ff-a90684fc8311"
      },
      "source": [
        "#@title Your part #5\n",
        "\n",
        "import math\n",
        "import matplotlib.pyplot as plt\n",
        "from sklearn.metrics import accuracy_score, precision_score, recall_score, f1_score\n",
        "\n",
        "def plot_metrics_by_k(ks, X_train, y_train, X_test, y_test):\n",
        "\n",
        "  accuracy = list()\n",
        "  precission = list()\n",
        "  recall = list()\n",
        "  f1 = list()\n",
        "\n",
        "  for i in range(len(ks)):\n",
        "    classifier = KNeighborsClassifier(n_neighbors=ks[i])\n",
        "    classifier.fit(X_train, y_train)\n",
        "    pred_test = classifier.predict(X_test)\n",
        "\n",
        "    accuracy.append(accuracy_score(y_test, pred_test))\n",
        "    precission.append(precision_score(y_test, pred_test, average='macro'))\n",
        "    recall.append(recall_score(y_test, pred_test, average='macro'))\n",
        "    f1.append(f1_score(y_test, pred_test, average='macro'))\n",
        "\n",
        "  fig, ax = plt.subplots(figsize=(15, 9))\n",
        "\n",
        "  ax.plot(ks, accuracy, label='accuracy')\n",
        "  ax.plot(ks, precission, label='precission')\n",
        "  ax.plot(ks, recall, label='recall')\n",
        "  ax.plot(ks, f1, label='f1-score')\n",
        "\n",
        "  ax.set(xlabel=\"K\", ylabel=\"value\", title=\"Metrices\")\n",
        "\n",
        "  ax.legend()\n",
        "  ax.set_xscale(\"log\")\n",
        "  plt.show()\n",
        "\n",
        "\n",
        "ks = [2**i+1 for i in range(1, int(math.log(X_train.shape[0], 2))+1)] + [X_train.shape[0]]\n",
        "plot_metrics_by_k(ks, X_train, y_train, X_test, y_test)\n",
        "\n",
        "\n"
      ],
      "execution_count": 19,
      "outputs": [
        {
          "output_type": "stream",
          "name": "stderr",
          "text": [
            "/usr/local/lib/python3.7/dist-packages/sklearn/metrics/_classification.py:1318: UndefinedMetricWarning: Precision is ill-defined and being set to 0.0 in labels with no predicted samples. Use `zero_division` parameter to control this behavior.\n",
            "  _warn_prf(average, modifier, msg_start, len(result))\n"
          ]
        },
        {
          "output_type": "display_data",
          "data": {
            "text/plain": [
              "<Figure size 1080x648 with 1 Axes>"
            ],
            "image/png": "[encoded data removed]"
          },
          "metadata": {
            "needs_background": "light"
          }
        }
      ]
    },
    {
      "cell_type": "markdown",
      "metadata": {
        "id": "vG9elPUCGnAd"
      },
      "source": [
        "<font color=\"purple\">**According to the plots:**\n",
        "1. **Which value of K leads to highest model quality? (Based on which metric?)**</font>\n",
        "2. <font color=\"purple\">**What happens to the model when we increase k too much (based on each metric)? Why?**</font>"
      ]
    },
    {
      "cell_type": "markdown",
      "metadata": {
        "id": "kbaGZs2ttSpf"
      },
      "source": [
        "\n",
        "<font color=\"purple\">  --- **Put your answer here!** ---</font>\n",
        "</br>"
      ]
    },
    {
      "cell_type": "markdown",
      "metadata": {
        "id": "YUvBzXJUj1cR"
      },
      "source": [
        "If you are not satisfied with the quality of your classifier (or even if you are!), you can improve it in many ways. One of them is using a better vectorizer.\n",
        "\n",
        "There is an extension to BoW, called **Term Frequency-Inverse Document Frequency (TF-IDF)**. Read about it [here](https://maelfabien.github.io/machinelearning/NLP_2). And You can use it with the same parameters from `CountVectorizer`."
      ]
    },
    {
      "cell_type": "code",
      "metadata": {
        "id": "o4B_8chTp_pS"
      },
      "source": [
        "# @title TF-IDF Vectorizer\n",
        "from sklearn.feature_extraction.text import TfidfVectorizer\n",
        "\n",
        "MIN_DF = 0.2 # @param {\"type\": \"number\"}\n",
        "MAX_DF =  0.7 # @param {\"type\": \"number\"}\n",
        "MAX_FEATURES =  7# @param {\"type\": \"integer\"}\n",
        "\n",
        "vectorizer = TfidfVectorizer(\n",
        "    tokenizer=word_tokenize,\n",
        "    min_df=MIN_DF,\n",
        "    max_df=MAX_DF,\n",
        "    max_features=MAX_FEATURES\n",
        ")"
      ],
      "execution_count": 31,
      "outputs": []
    },
    {
      "cell_type": "code",
      "metadata": {
        "id": "BpSzLEZszwo7",
        "colab": {
          "base_uri": "https://localhost:8080/"
        },
        "outputId": "442b9b6d-b339-417e-f9f0-8253379e6ff6"
      },
      "source": [
        "X_train = vectorizer.fit_transform(texts_train)     # returns a sparse matrix\n",
        "X_test = vectorizer.transform(texts_test)\n",
        "\n",
        "X_train.todense().shape, X_test.todense().shape"
      ],
      "execution_count": 32,
      "outputs": [
        {
          "output_type": "execute_result",
          "data": {
            "text/plain": [
              "((12223, 7), (3056, 7))"
            ]
          },
          "metadata": {},
          "execution_count": 32
        }
      ]
    },
    {
      "cell_type": "markdown",
      "metadata": {
        "id": "dUZFOiWNk2wd"
      },
      "source": [
        "Plot the test accuracy again with the new training, test set, transformed by TF-IDF..."
      ]
    },
    {
      "cell_type": "code",
      "metadata": {
        "id": "Z04rEX_F0No6"
      },
      "source": [
        "ks = [2**i+1 for i in range(1, int(math.log(X_train.shape[0], 2))+1)] + [X_train.shape[0]]\n",
        "# plot_accuracy_by_k(ks, X_train, y_train, X_test, y_test)"
      ],
      "execution_count": 33,
      "outputs": []
    },
    {
      "cell_type": "markdown",
      "metadata": {
        "id": "BOHInO4utwrz"
      },
      "source": [
        "\n",
        "<font color=\"purple\">**Did TF-IDF improve the results significantly? If true, explain why?**</font>"
      ]
    },
    {
      "cell_type": "markdown",
      "metadata": {
        "id": "O8uUZ2MotrNY"
      },
      "source": [
        "\n",
        "<font color=\"purple\">  --- **Put your answer here!** ---</font>\n",
        "</br>"
      ]
    },
    {
      "cell_type": "markdown",
      "metadata": {
        "id": "dEBfVrol0LBv"
      },
      "source": [
        "## Manual Inspect"
      ]
    },
    {
      "cell_type": "markdown",
      "metadata": {
        "id": "4Kp4nhoe3bYv"
      },
      "source": [
        "Pick the best parameters for your KNN model. Also make sure the correct version of data (vectorized by best vectorizer) is used to fit the model...\n"
      ]
    },
    {
      "cell_type": "code",
      "metadata": {
        "id": "8UuNwGMD37-V",
        "colab": {
          "base_uri": "https://localhost:8080/"
        },
        "outputId": "8dd2eaa1-940b-4e1c-b264-c5ba8cdea5eb"
      },
      "source": [
        "# @title Define, Fit best model\n",
        "\n",
        "from sklearn.neighbors import KNeighborsClassifier\n",
        "\n",
        "K = 7 # @param {\"type\": \"integer\"}\n",
        "\n",
        "classifier = KNeighborsClassifier(n_neighbors=K)\n",
        "classifier.fit(X_train, y_train)"
      ],
      "execution_count": 34,
      "outputs": [
        {
          "output_type": "execute_result",
          "data": {
            "text/plain": [
              "KNeighborsClassifier(n_neighbors=7)"
            ]
          },
          "metadata": {},
          "execution_count": 34
        }
      ]
    },
    {
      "cell_type": "markdown",
      "metadata": {
        "id": "0U1UpFxG7qz_"
      },
      "source": [
        "By looking at the Confusion Matrix below, you can see which label is harder for the model to predict..."
      ]
    },
    {
      "cell_type": "code",
      "metadata": {
        "id": "b-_u3APj72nN",
        "colab": {
          "base_uri": "https://localhost:8080/",
          "height": 341
        },
        "outputId": "7e20ff96-c96c-4306-95ab-4d08e565242d"
      },
      "source": [
        "# @title Plot Confusion Matrix\n",
        "\n",
        "from sklearn.metrics import plot_confusion_matrix\n",
        "import matplotlib.pyplot as plt\n",
        "\n",
        "plt.rcParams['font.size'] = 12\n",
        "\n",
        "plot_confusion_matrix(classifier, X_test, y_test)\n",
        "plt.show()"
      ],
      "execution_count": 35,
      "outputs": [
        {
          "output_type": "stream",
          "name": "stderr",
          "text": [
            "/usr/local/lib/python3.7/dist-packages/sklearn/utils/deprecation.py:87: FutureWarning: Function plot_confusion_matrix is deprecated; Function `plot_confusion_matrix` is deprecated in 1.0 and will be removed in 1.2. Use one of the class methods: ConfusionMatrixDisplay.from_predictions or ConfusionMatrixDisplay.from_estimator.\n",
            "  warnings.warn(msg, category=FutureWarning)\n"
          ]
        },
        {
          "output_type": "display_data",
          "data": {
            "text/plain": [
              "<Figure size 432x288 with 2 Axes>"
            ],
            "image/png": "[encoded data removed]"
          },
          "metadata": {
            "needs_background": "light"
          }
        }
      ]
    },
    {
      "cell_type": "markdown",
      "metadata": {
        "id": "d9vCgcTM8PiL"
      },
      "source": [
        "<font color=\"purple\">**According to the confusion matrix,**\n",
        "1. **Predicting which label is the easiest for the model?**</font>\n",
        "2. <font color=\"purple\">**Which one is the hardest? Why?**</font>\n",
        "3. <font color=\"purple\">**Which label does the model confuse the hardest one with!?!? Why?**\n",
        "</font>"
      ]
    },
    {
      "cell_type": "markdown",
      "metadata": {
        "id": "SnVz92Vrt4GJ"
      },
      "source": [
        "\n",
        "<font color=\"orange\">1- The one with maximum number\n",
        "</br>\n",
        "2- The smallest one because our data is not enough in this part\n",
        "</br>\n",
        "3- predicred label = -1 & true label = 1 because in the wrong predicts it has maximum value</font>\n",
        "</br>"
      ]
    },
    {
      "cell_type": "markdown",
      "metadata": {
        "id": "2QbatLGG9byV"
      },
      "source": [
        "Now that you know the weakness point of your model, let's manually test it to see if the numbers are right about it, or not?\n",
        "\n",
        "in the following code cell, you can input your desired text, see the sentiment predicted by model, and see which examples are nearest neighbors of the input and cause the model to make that prediction."
      ]
    },
    {
      "cell_type": "code",
      "metadata": {
        "id": "RPgXBLMR45AA",
        "colab": {
          "base_uri": "https://localhost:8080/"
        },
        "outputId": "dc67e31b-ae2c-4bcb-b971-f74f77143988"
      },
      "source": [
        "# @title Get Neighbors\n",
        "text = \"\\u062E\\u0648\\u0628 \\u0646\\u06CC\\u0633\\u062A\" # @param {\"type\": \"string\"}\n",
        "\n",
        "x = vectorizer.transform([text])\n",
        "\n",
        "print('predicted sentiment:\\t', classifier.predict(x), '\\n')\n",
        "distances, indexes = classifier.kneighbors(x)\n",
        "\n",
        "for distance, index in zip(distances[0], indexes[0]):\n",
        "  print(f'label: {labels_train[index]}\\ndistance:{distance}\\n{texts_train[index]}\\n')\n",
        "# neighbors"
      ],
      "execution_count": 39,
      "outputs": [
        {
          "output_type": "stream",
          "name": "stdout",
          "text": [
            "predicted sentiment:\t ['-1'] \n",
            "\n",
            "label: -1\n",
            "distance:0.0\n",
            "در مجموع برای اینکه کلاس بذاریم و در بین رقبا ما هم با قلم کار کنیم خوبه و گرنه کیفیت کارش با نوک پهنش خیلی مناسب نیست\n",
            "\n",
            "label: 0\n",
            "distance:0.0\n",
            "واقعا کیفیتش خوبه ولی کاشکی دیجی داخل توضیحات نمیزد واسه تبلت ۱۰.۲ میگذرد تبلت نمیخوره درسته کیفیتش عالیه ولی برای من بی استفاده شده چون بدرد تبلت نمیخوره\n",
            "\n",
            "label: -1\n",
            "distance:0.0\n",
            "کیفیتش اصلا خوب نیست و زود میشکنه هوشمند هم نیست و فقط با سنسور مجاورت کار میکنه ک با یه نرم‌افزار کار می کنه\n",
            "\n",
            "label: 0\n",
            "distance:0.0\n",
            "س رو خیلی ضعیف میکنه،دکمه کناره ها هم خیلی باید فشار بدی تا عمل کنه,خیلی هم گنده هست ولی در کل قاب باحالی\n",
            "\n",
            "label: 0\n",
            "distance:0.0\n",
            "خوش بو هست \n",
            "گرم و شیرین مناسب زمستان \n",
            "خیلی هم شیکه\n",
            "ولی ماندگاری شاید ۱۰ دقیقه\n",
            "با قیمت پایینتر ادکلن های ماندگاری بیشتر میتونید بخرید \n",
            "\n",
            "\n",
            "label: -1\n",
            "distance:0.0\n",
            "معلوم نیست برای چه مدل گوشی ساخته شده مثلا گوشیه من A5سامسونگ اصلا داخله کیف نمیره درکل فقط یکم ظاهر داره ولی اصلا توصیه نمیکنم\n",
            "\n",
            "label: 1\n",
            "distance:0.0\n",
            "خیلی قشنگه خیلی ها میپرسن کجا خریدی و اینکه خیلی خاصه ولی چون پارچه ای هست من مقداری تو قسمت بندی وسایلم مشکل دارم ولی گنجایشش عالیه برای  من\n",
            "\n"
          ]
        }
      ]
    },
    {
      "cell_type": "markdown",
      "metadata": {
        "id": "RDYUlDBoHaJj"
      },
      "source": [
        "<font color=\"purple\">**Based on manual inspection, which one of the followings is the main source of errors?**\n",
        "1. **The KNN algorithm**\n",
        "2. **The vectorization method**\n",
        "3. **Tokenization**\n",
        "3. **Or the dataset**\n",
        "**No problem if you feel that everyone is guilty! :)\n",
        "Justify your explanation with examples.**\n",
        "</font>"
      ]
    },
    {
      "cell_type": "markdown",
      "metadata": {
        "id": "hGOP5HPauaTE"
      },
      "source": [
        "\n",
        "<font color=\"purple\">  --- **Put your answer here!** ---</font>\n",
        "</br>"
      ]
    }
  ]
}